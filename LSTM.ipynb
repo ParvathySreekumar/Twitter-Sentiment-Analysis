{
 "cells": [
  {
   "cell_type": "code",
   "execution_count": 1,
   "metadata": {},
   "outputs": [],
   "source": [
    "import pandas as pd\n",
    "import numpy as np\n",
    "import matplotlib.pyplot as plt\n",
    "import seaborn as sns\n",
    "from sklearn.model_selection import train_test_split\n",
    "from sklearn.feature_extraction.text import TfidfVectorizer\n",
    "from sklearn.linear_model import LogisticRegression\n",
    "from sklearn.metrics import classification_report, confusion_matrix, accuracy_score\n",
    "import nltk\n",
    "from nltk.corpus import stopwords\n",
    "from nltk.tokenize import word_tokenize\n",
    "import re"
   ]
  },
  {
   "cell_type": "code",
   "execution_count": 2,
   "metadata": {},
   "outputs": [
    {
     "name": "stdout",
     "output_type": "stream",
     "text": [
      "Unique sentiments after filtering: ['Positive' 'Neutral' 'Negative']\n",
      "Remaining tweets: 61691\n",
      "   tweet id       entity sentiment  \\\n",
      "0      2401  Borderlands  Positive   \n",
      "1      2401  Borderlands  Positive   \n",
      "2      2401  Borderlands  Positive   \n",
      "3      2401  Borderlands  Positive   \n",
      "4      2401  Borderlands  Positive   \n",
      "\n",
      "                                       Tweet content  \n",
      "0  I am coming to the borders and I will kill you...  \n",
      "1  im getting on borderlands and i will kill you ...  \n",
      "2  im coming on borderlands and i will murder you...  \n",
      "3  im getting on borderlands 2 and i will murder ...  \n",
      "4  im getting into borderlands and i can murder y...  \n"
     ]
    }
   ],
   "source": [
    "# Step 2: Load the Kaggle dataset\n",
    "file_path = 'C:/Users/parva/Desktop/ML_Project/archive/twitter_training.csv'\n",
    "df = pd.read_csv(file_path)\n",
    "#define the columns of the dataset\n",
    "df.columns = ['tweet id','entity','sentiment','Tweet content']\n",
    "# Define the valid sentiment labels\n",
    "valid_sentiments = ['Positive', 'Negative', 'Neutral']\n",
    "# Filter out tweets with 'irrelevant' sentiment labels\n",
    "df = df[df['sentiment'].isin(valid_sentiments)]\n",
    "\n",
    "# Debug: Confirm only valid sentiments remain\n",
    "print(f\"Unique sentiments after filtering: {df['sentiment'].unique()}\")\n",
    "print(f\"Remaining tweets: {len(df)}\")\n",
    "\n",
    "# Display the first few rows of the dataset\n",
    "print(df.head())"
   ]
  },
  {
   "cell_type": "code",
   "execution_count": 3,
   "metadata": {},
   "outputs": [],
   "source": [
    "def clean_tweet(text):\n",
    "    if not isinstance(text, str):\n",
    "        return ''\n",
    "    text = re.sub(r'http\\S+', '', text)  # Remove URLs\n",
    "    text = re.sub(r'@\\w+', '', text)  # Remove mentions\n",
    "    text = re.sub(r'[^a-zA-Z\\s]', '', text)  # Remove special characters and numbers\n",
    "    return text.lower()  # Convert to lowercase\n",
    "\n",
    "df['cleaned_text'] = df['Tweet content'].apply(clean_tweet)\n"
   ]
  },
  {
   "cell_type": "code",
   "execution_count": 4,
   "metadata": {},
   "outputs": [],
   "source": [
    "label_mapping = {'Positive': 1, 'Neutral': 0, 'Negative': 2}\n",
    "df['label'] = df['sentiment'].map(label_mapping)"
   ]
  },
  {
   "cell_type": "code",
   "execution_count": 5,
   "metadata": {},
   "outputs": [],
   "source": [
    "X = df['cleaned_text']\n",
    "y = df['label']\n",
    "X_train, X_test, y_train, y_test = train_test_split(X, y, test_size=0.2, random_state=42)"
   ]
  },
  {
   "cell_type": "code",
   "execution_count": 6,
   "metadata": {},
   "outputs": [],
   "source": [
    "from tensorflow.keras.preprocessing.text import Tokenizer\n",
    "from tensorflow.keras.preprocessing.sequence import pad_sequences\n",
    "\n",
    "# Initialize the tokenizer\n",
    "tokenizer = Tokenizer(num_words=10000)  # Set a vocabulary size (e.g., top 10,000 words)\n",
    "tokenizer.fit_on_texts(X_train)\n",
    "\n",
    "# Convert text to sequences\n",
    "X_train_seq = tokenizer.texts_to_sequences(X_train)\n",
    "X_test_seq = tokenizer.texts_to_sequences(X_test)\n",
    "\n",
    "# Pad sequences to ensure equal length\n",
    "max_len = 50  # Define a maximum length for sequences\n",
    "X_train_pad = pad_sequences(X_train_seq, maxlen=max_len, padding='post')\n",
    "X_test_pad = pad_sequences(X_test_seq, maxlen=max_len, padding='post')\n"
   ]
  },
  {
   "cell_type": "code",
   "execution_count": 7,
   "metadata": {},
   "outputs": [],
   "source": [
    "from sklearn.preprocessing import LabelEncoder\n",
    "\n",
    "label_encoder = LabelEncoder()\n",
    "y_train_enc = label_encoder.fit_transform(y_train)\n",
    "y_test_enc = label_encoder.transform(y_test)\n"
   ]
  },
  {
   "cell_type": "code",
   "execution_count": 8,
   "metadata": {},
   "outputs": [
    {
     "name": "stderr",
     "output_type": "stream",
     "text": [
      "c:\\Users\\parva\\AppData\\Local\\Programs\\Python\\Python39\\lib\\site-packages\\keras\\src\\layers\\core\\embedding.py:90: UserWarning: Argument `input_length` is deprecated. Just remove it.\n",
      "  warnings.warn(\n"
     ]
    }
   ],
   "source": [
    "from keras.models import Sequential\n",
    "from keras.layers import Embedding, LSTM, Dense, Dropout\n",
    "\n",
    "# Define the LSTM model\n",
    "vocab_size = 10000  # Match the vocabulary size used in the tokenizer\n",
    "embedding_dim = 128  # Size of word embeddings\n",
    "model = Sequential([\n",
    "    Embedding(input_dim=vocab_size, output_dim=embedding_dim, input_length=max_len),\n",
    "    LSTM(units=64, return_sequences=True),  # First LSTM layer\n",
    "    Dropout(0.2),  # Regularization\n",
    "    LSTM(units=64),  # Second LSTM layer\n",
    "    Dense(units=32, activation='relu'),\n",
    "    Dropout(0.2),\n",
    "    Dense(units=3, activation='softmax')  # 3 classes: Positive, Negative, Neutral\n",
    "])\n",
    "\n",
    "# Compile the model - old\n",
    "# model.compile(optimizer='adam', loss='sparse_categorical_crossentropy', metrics=['accuracy'])\n"
   ]
  },
  {
   "cell_type": "code",
   "execution_count": 9,
   "metadata": {},
   "outputs": [
    {
     "name": "stdout",
     "output_type": "stream",
     "text": [
      "Epoch 1/10\n",
      "\u001b[1m1543/1543\u001b[0m \u001b[32m━━━━━━━━━━━━━━━━━━━━\u001b[0m\u001b[37m\u001b[0m \u001b[1m52s\u001b[0m 32ms/step - accuracy: 0.3967 - loss: 1.0851 - val_accuracy: 0.4989 - val_loss: 1.0028 - learning_rate: 0.0010\n",
      "Epoch 2/10\n",
      "\u001b[1m1543/1543\u001b[0m \u001b[32m━━━━━━━━━━━━━━━━━━━━\u001b[0m\u001b[37m\u001b[0m \u001b[1m51s\u001b[0m 33ms/step - accuracy: 0.4826 - loss: 1.0251 - val_accuracy: 0.5155 - val_loss: 0.9960 - learning_rate: 0.0010\n",
      "Epoch 3/10\n",
      "\u001b[1m1543/1543\u001b[0m \u001b[32m━━━━━━━━━━━━━━━━━━━━\u001b[0m\u001b[37m\u001b[0m \u001b[1m51s\u001b[0m 33ms/step - accuracy: 0.5313 - loss: 0.9442 - val_accuracy: 0.6295 - val_loss: 0.7646 - learning_rate: 0.0010\n",
      "Epoch 4/10\n",
      "\u001b[1m1543/1543\u001b[0m \u001b[32m━━━━━━━━━━━━━━━━━━━━\u001b[0m\u001b[37m\u001b[0m \u001b[1m51s\u001b[0m 33ms/step - accuracy: 0.7010 - loss: 0.6729 - val_accuracy: 0.7856 - val_loss: 0.5303 - learning_rate: 0.0010\n",
      "Epoch 5/10\n",
      "\u001b[1m1543/1543\u001b[0m \u001b[32m━━━━━━━━━━━━━━━━━━━━\u001b[0m\u001b[37m\u001b[0m \u001b[1m51s\u001b[0m 33ms/step - accuracy: 0.8558 - loss: 0.3860 - val_accuracy: 0.8236 - val_loss: 0.4652 - learning_rate: 0.0010\n",
      "Epoch 6/10\n",
      "\u001b[1m1543/1543\u001b[0m \u001b[32m━━━━━━━━━━━━━━━━━━━━\u001b[0m\u001b[37m\u001b[0m \u001b[1m52s\u001b[0m 34ms/step - accuracy: 0.9024 - loss: 0.2548 - val_accuracy: 0.8458 - val_loss: 0.4265 - learning_rate: 0.0010\n",
      "Epoch 7/10\n",
      "\u001b[1m1543/1543\u001b[0m \u001b[32m━━━━━━━━━━━━━━━━━━━━\u001b[0m\u001b[37m\u001b[0m \u001b[1m54s\u001b[0m 35ms/step - accuracy: 0.9245 - loss: 0.1965 - val_accuracy: 0.8544 - val_loss: 0.4305 - learning_rate: 0.0010\n",
      "Epoch 8/10\n",
      "\u001b[1m1543/1543\u001b[0m \u001b[32m━━━━━━━━━━━━━━━━━━━━\u001b[0m\u001b[37m\u001b[0m \u001b[1m54s\u001b[0m 35ms/step - accuracy: 0.9336 - loss: 0.1605 - val_accuracy: 0.8491 - val_loss: 0.4529 - learning_rate: 0.0010\n",
      "Epoch 9/10\n",
      "\u001b[1m1543/1543\u001b[0m \u001b[32m━━━━━━━━━━━━━━━━━━━━\u001b[0m\u001b[37m\u001b[0m \u001b[1m0s\u001b[0m 32ms/step - accuracy: 0.9406 - loss: 0.1399\n",
      "Epoch 9: ReduceLROnPlateau reducing learning rate to 0.0005000000237487257.\n",
      "\u001b[1m1543/1543\u001b[0m \u001b[32m━━━━━━━━━━━━━━━━━━━━\u001b[0m\u001b[37m\u001b[0m \u001b[1m53s\u001b[0m 35ms/step - accuracy: 0.9406 - loss: 0.1399 - val_accuracy: 0.8653 - val_loss: 0.4838 - learning_rate: 0.0010\n",
      "Epoch 10/10\n",
      "\u001b[1m1543/1543\u001b[0m \u001b[32m━━━━━━━━━━━━━━━━━━━━\u001b[0m\u001b[37m\u001b[0m \u001b[1m54s\u001b[0m 35ms/step - accuracy: 0.9522 - loss: 0.1111 - val_accuracy: 0.8668 - val_loss: 0.4983 - learning_rate: 5.0000e-04\n"
     ]
    }
   ],
   "source": [
    "from keras.optimizers import Adam\n",
    "from keras.callbacks import ReduceLROnPlateau\n",
    "\n",
    "# Define the optimizer\n",
    "optimizer = Adam(learning_rate=0.001)  # Start with a small learning rate\n",
    "\n",
    "# Compile the model\n",
    "model.compile(optimizer=optimizer, loss='sparse_categorical_crossentropy', metrics=['accuracy'])\n",
    "\n",
    "# Define the learning rate scheduler\n",
    "lr_scheduler = ReduceLROnPlateau(monitor='val_loss', factor=0.5, patience=3, verbose=1)\n",
    "\n",
    "# Train the model with the scheduler\n",
    "history = model.fit(\n",
    "    X_train_pad, \n",
    "    y_train_enc, \n",
    "    validation_data=(X_test_pad, y_test_enc), \n",
    "    batch_size=32, \n",
    "    epochs=10, \n",
    "    callbacks=[lr_scheduler]  # Include the learning rate scheduler here\n",
    ")\n"
   ]
  },
  {
   "cell_type": "code",
   "execution_count": 10,
   "metadata": {},
   "outputs": [
    {
     "name": "stdout",
     "output_type": "stream",
     "text": [
      "\u001b[1m386/386\u001b[0m \u001b[32m━━━━━━━━━━━━━━━━━━━━\u001b[0m\u001b[37m\u001b[0m \u001b[1m4s\u001b[0m 9ms/step - accuracy: 0.8608 - loss: 0.5194\n",
      "Test Loss: 0.49826061725616455\n",
      "Test Accuracy: 0.8667638897895813\n"
     ]
    }
   ],
   "source": [
    "# Evaluate the model on the test data\n",
    "loss, accuracy = model.evaluate(X_test_pad, y_test_enc, verbose=1)\n",
    "print(f\"Test Loss: {loss}\")\n",
    "print(f\"Test Accuracy: {accuracy}\")"
   ]
  },
  {
   "cell_type": "code",
   "execution_count": 11,
   "metadata": {},
   "outputs": [
    {
     "name": "stdout",
     "output_type": "stream",
     "text": [
      "\u001b[1m386/386\u001b[0m \u001b[32m━━━━━━━━━━━━━━━━━━━━\u001b[0m\u001b[37m\u001b[0m \u001b[1m4s\u001b[0m 10ms/step\n",
      "Confusion Matrix:\n",
      "[[3296  225  157]\n",
      " [ 422 3589  158]\n",
      " [ 409  273 3810]]\n",
      "\n",
      "Classification Report:\n",
      "              precision    recall  f1-score   support\n",
      "\n",
      "           0       0.80      0.90      0.84      3678\n",
      "           1       0.88      0.86      0.87      4169\n",
      "           2       0.92      0.85      0.88      4492\n",
      "\n",
      "    accuracy                           0.87     12339\n",
      "   macro avg       0.87      0.87      0.87     12339\n",
      "weighted avg       0.87      0.87      0.87     12339\n",
      "\n"
     ]
    },
    {
     "data": {
      "image/png": "[encoded data removed]",
      "text/plain": [
       "<Figure size 800x600 with 2 Axes>"
      ]
     },
     "metadata": {},
     "output_type": "display_data"
    }
   ],
   "source": [
    "from sklearn.metrics import classification_report, confusion_matrix\n",
    "import matplotlib.pyplot as plt\n",
    "import seaborn as sns\n",
    "import numpy as np\n",
    "\n",
    "# Step 1: Predict on the test set\n",
    "y_pred_prob = model.predict(X_test_pad)  # Get prediction probabilities\n",
    "y_pred = np.argmax(y_pred_prob, axis=1)  # Convert probabilities to class predictions\n",
    "\n",
    "# Step 2: Confusion Matrix\n",
    "conf_matrix = confusion_matrix(y_test_enc, y_pred)\n",
    "\n",
    "# Print Confusion Matrix\n",
    "print(\"Confusion Matrix:\")\n",
    "print(conf_matrix)\n",
    "\n",
    "# Step 3: Classification Report\n",
    "class_report = classification_report(y_test_enc, y_pred)\n",
    "print(\"\\nClassification Report:\")\n",
    "print(class_report)\n",
    "\n",
    "# Step 4: Visualize the Confusion Matrix\n",
    "plt.figure(figsize=(8, 6))\n",
    "sns.heatmap(conf_matrix, annot=True, fmt='d', cmap='Blues', xticklabels=label_encoder.classes_, yticklabels=label_encoder.classes_)\n",
    "plt.xlabel('Predicted Labels')\n",
    "plt.ylabel('True Labels')\n",
    "plt.title('Confusion Matrix')\n",
    "plt.show()"
   ]
  }
 ],
 "metadata": {
  "kernelspec": {
   "display_name": "Python 3",
   "language": "python",
   "name": "python3"
  },
  "language_info": {
   "codemirror_mode": {
    "name": "ipython",
    "version": 3
   },
   "file_extension": ".py",
   "mimetype": "text/x-python",
   "name": "python",
   "nbconvert_exporter": "python",
   "pygments_lexer": "ipython3",
   "version": "3.9.10"
  }
 },
 "nbformat": 4,
 "nbformat_minor": 2
}
